{
 "cells": [
  {
   "cell_type": "code",
   "execution_count": 1,
   "id": "e4407432-c7d4-4ca7-8c86-96b58fcc5f68",
   "metadata": {},
   "outputs": [
    {
     "name": "stdout",
     "output_type": "stream",
     "text": [
      "Requirement already satisfied: gdown in c:\\users\\user\\anaconda3\\envs\\opencv_yash\\lib\\site-packages (5.1.0)\n",
      "Requirement already satisfied: beautifulsoup4 in c:\\users\\user\\anaconda3\\envs\\opencv_yash\\lib\\site-packages (from gdown) (4.12.2)\n",
      "Requirement already satisfied: filelock in c:\\users\\user\\anaconda3\\envs\\opencv_yash\\lib\\site-packages (from gdown) (3.13.1)\n",
      "Requirement already satisfied: requests[socks] in c:\\users\\user\\anaconda3\\envs\\opencv_yash\\lib\\site-packages (from gdown) (2.31.0)\n",
      "Requirement already satisfied: tqdm in c:\\users\\user\\anaconda3\\envs\\opencv_yash\\lib\\site-packages (from gdown) (4.66.2)\n",
      "Requirement already satisfied: soupsieve>1.2 in c:\\users\\user\\anaconda3\\envs\\opencv_yash\\lib\\site-packages (from beautifulsoup4->gdown) (2.5)\n",
      "Requirement already satisfied: charset-normalizer<4,>=2 in c:\\users\\user\\anaconda3\\envs\\opencv_yash\\lib\\site-packages (from requests[socks]->gdown) (2.0.4)\n",
      "Requirement already satisfied: idna<4,>=2.5 in c:\\users\\user\\anaconda3\\envs\\opencv_yash\\lib\\site-packages (from requests[socks]->gdown) (3.4)\n",
      "Requirement already satisfied: urllib3<3,>=1.21.1 in c:\\users\\user\\anaconda3\\envs\\opencv_yash\\lib\\site-packages (from requests[socks]->gdown) (2.1.0)\n",
      "Requirement already satisfied: certifi>=2017.4.17 in c:\\users\\user\\anaconda3\\envs\\opencv_yash\\lib\\site-packages (from requests[socks]->gdown) (2024.2.2)\n",
      "Requirement already satisfied: PySocks!=1.5.7,>=1.5.6 in c:\\users\\user\\anaconda3\\envs\\opencv_yash\\lib\\site-packages (from requests[socks]->gdown) (1.7.1)\n",
      "Requirement already satisfied: colorama in c:\\users\\user\\anaconda3\\envs\\opencv_yash\\lib\\site-packages (from tqdm->gdown) (0.4.6)\n"
     ]
    }
   ],
   "source": [
    "!pip install gdown\n"
   ]
  },
  {
   "cell_type": "code",
   "execution_count": null,
   "id": "25434cff-030f-4236-aadc-f37bc0546220",
   "metadata": {},
   "outputs": [],
   "source": [
    "import cv2\n",
    "import numpy as np\n",
    "from scipy.fft import fft\n",
    "import matplotlib.pyplot as plt\n",
    "import gdown\n",
    "import os\n",
    "\n",
    "\n",
    "def calculate_frequency(signal, fps):\n",
    "    n = len(signal)\n",
    "    freq = np.fft.fftfreq(n, d=1/fps)\n",
    "    fft_values = fft(signal)\n",
    "    positive_freq = freq[freq > 0]\n",
    "    magnitude = np.abs(fft_values[0:len(positive_freq)])\n",
    "    dominant_freq_index = np.argmax(magnitude)\n",
    "    dominant_freq = positive_freq[dominant_freq_index]\n",
    "    return dominant_freq\n",
    "\n",
    "# Function to find connected components with a given frequency range\n",
    "def find_components_with_frequency(video_path, frequency_range=(0, 1), connectivity=4):\n",
    "   \n",
    "    output_path = \"thermal_video.mp4\"\n",
    "    gdown.download(video_path, output_path, quiet=False)\n",
    "\n",
    "    cap = cv2.VideoCapture(output_path)\n",
    "    fps = cap.get(cv2.CAP_PROP_FPS)\n",
    "    component_list = []\n",
    "\n",
    "    while True:\n",
    "        ret, frame = cap.read()\n",
    "        if not ret:\n",
    "            break\n",
    "\n",
    "        frame = cv2.resize(frame, (0, 0), fx=0.5, fy=0.5)  \n",
    "        gray = cv2.cvtColor(frame, cv2.COLOR_BGR2GRAY)\n",
    "        frequency = calculate_frequency(gray.flatten(), fps)\n",
    "\n",
    "        if frequency_range[0] <= frequency <= frequency_range[1]:\n",
    "            _, labels = cv2.connectedComponents(gray, connectivity=connectivity)\n",
    "            component_list.append(labels)\n",
    "\n",
    "            frame_with_components = cv2.applyColorMap((labels * 15).astype(np.uint8), cv2.COLORMAP_VIRIDIS)\n",
    "            cv2.imshow(\"Connected Components\", frame_with_components)\n",
    "            if cv2.waitKey(30) & 0xFF == 27: \n",
    "                break\n",
    "\n",
    "    cap.release()\n",
    "    cv2.destroyAllWindows()\n",
    "    os.remove(output_path)  \n",
    "    return component_list\n",
    "\n",
    "video_drive_link = \"https://drive.google.com/uc?id=1PWS2MoFphHwTwblN82QZZbYqEmycN0Jj\"\n",
    "components = find_components_with_frequency(video_drive_link, frequency_range=(0, 1), connectivity=4)\n"
   ]
  },
  {
   "cell_type": "code",
   "execution_count": null,
   "id": "230af6cd-cd34-4844-8e97-fcc5f70f5239",
   "metadata": {},
   "outputs": [],
   "source": []
  }
 ],
 "metadata": {
  "kernelspec": {
   "display_name": "Python 3 (ipykernel)",
   "language": "python",
   "name": "python3"
  },
  "language_info": {
   "codemirror_mode": {
    "name": "ipython",
    "version": 3
   },
   "file_extension": ".py",
   "mimetype": "text/x-python",
   "name": "python",
   "nbconvert_exporter": "python",
   "pygments_lexer": "ipython3",
   "version": "3.8.18"
  }
 },
 "nbformat": 4,
 "nbformat_minor": 5
}
